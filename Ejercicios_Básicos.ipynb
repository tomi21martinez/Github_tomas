{
  "nbformat": 4,
  "nbformat_minor": 0,
  "metadata": {
    "colab": {
      "provenance": [],
      "authorship_tag": "ABX9TyO3WLVS03ykwCrtLyPnHbI5",
      "include_colab_link": true
    },
    "kernelspec": {
      "name": "python3",
      "display_name": "Python 3"
    },
    "language_info": {
      "name": "python"
    }
  },
  "cells": [
    {
      "cell_type": "markdown",
      "metadata": {
        "id": "view-in-github",
        "colab_type": "text"
      },
      "source": [
        "<a href=\"https://colab.research.google.com/github/tomi21martinez/Github_tomas/blob/main/Ejercicios_B%C3%A1sicos.ipynb\" target=\"_parent\"><img src=\"https://colab.research.google.com/assets/colab-badge.svg\" alt=\"Open In Colab\"/></a>"
      ]
    },
    {
      "cell_type": "markdown",
      "source": [
        "Función max"
      ],
      "metadata": {
        "id": "rqIVX8gvVlp3"
      }
    },
    {
      "cell_type": "code",
      "execution_count": null,
      "metadata": {
        "colab": {
          "base_uri": "https://localhost:8080/"
        },
        "id": "7BH7N56ET3YS",
        "outputId": "1c1ed541-d208-4a92-8c6c-8d4834eafd68"
      },
      "outputs": [
        {
          "output_type": "stream",
          "name": "stdout",
          "text": [
            "Son iguales\n"
          ]
        }
      ],
      "source": [
        "x = max(5,5)\n",
        "def max (n1, n2):\n",
        "    if n1 < n2:\n",
        "        print(n2)\n",
        "    elif n2 < n1:\n",
        "        print(n1)\n",
        "    else:\n",
        "        print(\"Son iguales\")"
      ]
    },
    {
      "cell_type": "markdown",
      "source": [
        "Lo mismo pero con tres valores"
      ],
      "metadata": {
        "id": "owGDmqGjVry3"
      }
    },
    {
      "cell_type": "code",
      "source": [
        "\n",
        "def max2(x,y,z):\n",
        "  if (x>y & x>z): print(x)\n",
        "  elif (y>z & y>x): print(y)\n",
        "  elif (y<z & z>x): print(z)\n",
        "  elif(x==z & y==x): print(\"todos iguales\")\n",
        "  else : print(\"2 iguales\")\n",
        "\n",
        "res = max2(10,11,11)"
      ],
      "metadata": {
        "colab": {
          "base_uri": "https://localhost:8080/"
        },
        "id": "hz71BEYmVk2f",
        "outputId": "51dc5c85-db78-41cc-dd58-593f056bacf2"
      },
      "execution_count": null,
      "outputs": [
        {
          "output_type": "stream",
          "name": "stdout",
          "text": [
            "2 iguales\n"
          ]
        }
      ]
    },
    {
      "cell_type": "markdown",
      "source": [
        "SUMA Y MULTIPLICACIÓN DE UNA LISTA"
      ],
      "metadata": {
        "id": "OHrSUEaFZdA5"
      }
    },
    {
      "cell_type": "code",
      "source": [
        "lista1 = [1,2,3,4,5]\n",
        "def sum_mult(l):\n",
        "  i = 0\n",
        "  res1 = 0\n",
        "  res2 = 1\n",
        "  for i in l:\n",
        "    res1 += i\n",
        "  ressum = ('la suma de todos sus elemetos es:',res1)\n",
        "  j = 0\n",
        "  for j in l:\n",
        "    res2 *= j\n",
        "  resmult= ('la multiplicación de todos sus elemetos es:',res2)\n",
        "  print (ressum)\n",
        "  print(resmult)\n",
        "sum_mult(lista1)"
      ],
      "metadata": {
        "colab": {
          "base_uri": "https://localhost:8080/"
        },
        "id": "V7v7UkqUZceb",
        "outputId": "073b6460-88af-45e0-de8f-e2ca2daebacf"
      },
      "execution_count": null,
      "outputs": [
        {
          "output_type": "stream",
          "name": "stdout",
          "text": [
            "('la suma de todos sus elemetos es:', 15)\n",
            "('la multiplicación de todos sus elemetos es:', 120)\n"
          ]
        }
      ]
    }
  ]
}